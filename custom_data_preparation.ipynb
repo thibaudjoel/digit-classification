{
 "cells": [
  {
   "cell_type": "code",
   "execution_count": 1,
   "id": "f134cc0b",
   "metadata": {},
   "outputs": [],
   "source": [
    "import os\n",
    "import shutil"
   ]
  },
  {
   "cell_type": "markdown",
   "id": "c5e5468f",
   "metadata": {},
   "source": [
    "Labeled images are stored in labeled_data/imgs\n",
    "\n",
    "We create folders for each digit and move the images to the corresponding folder"
   ]
  },
  {
   "cell_type": "code",
   "execution_count": 2,
   "id": "9dede314",
   "metadata": {},
   "outputs": [],
   "source": [
    "base_dir = 'labeled_data'\n",
    "img_dir = os.path.join(base_dir, 'imgs')\n",
    "\n",
    "# Create subdirectories 0–9\n",
    "for i in range(10):\n",
    "    digit_dir = os.path.join(base_dir, str(i))\n",
    "    os.makedirs(digit_dir, exist_ok=True)\n",
    "        \n",
    "# Loop through files directly in imgs/\n",
    "for file in os.listdir(img_dir):\n",
    "    # extract label from filename\n",
    "    label = file[0]\n",
    "    file_path = os.path.join(img_dir, file)\n",
    "    src = file_path\n",
    "    dst = os.path.join(base_dir, label, file)\n",
    "    \n",
    "    # Move image to label folder if source file exists\n",
    "    if os.path.exists(src):\n",
    "        shutil.move(src, dst)\n",
    "    else:\n",
    "        print(f\"Warning: {src} not found\")\n"
   ]
  }
 ],
 "metadata": {
  "kernelspec": {
   "display_name": ".venv",
   "language": "python",
   "name": "python3"
  },
  "language_info": {
   "codemirror_mode": {
    "name": "ipython",
    "version": 3
   },
   "file_extension": ".py",
   "mimetype": "text/x-python",
   "name": "python",
   "nbconvert_exporter": "python",
   "pygments_lexer": "ipython3",
   "version": "3.12.0"
  }
 },
 "nbformat": 4,
 "nbformat_minor": 5
}
